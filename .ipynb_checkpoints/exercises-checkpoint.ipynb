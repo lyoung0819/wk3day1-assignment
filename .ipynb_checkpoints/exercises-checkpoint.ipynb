{
 "cells": [
  {
   "cell_type": "markdown",
   "id": "d10b1496",
   "metadata": {},
   "source": [
    "# Exercises"
   ]
  },
  {
   "cell_type": "markdown",
   "id": "96277d9d",
   "metadata": {},
   "source": [
    "### Exercise 1 - Write a Python class for an Animal that has a name and energy attributes. The animal class should also have methods for eat, sleep, and play that will take in an integer and increase/decrease the energy of the animal with a formatted print statement"
   ]
  },
  {
   "cell_type": "code",
   "execution_count": 1,
   "id": "65d4f7f0",
   "metadata": {},
   "outputs": [],
   "source": [
    "# Example 1\n",
    "# buddy = Animal('Buddy', 10)\n",
    "# buddy.play(5) -> \"Buddy is playing for 5 minutes. His energy is now 5\"\n",
    "# buddy.sleep(10) -> \"Buddy is sleeping for 10 minutes. His energy is now 15\"\n",
    "\n",
    "class Animal:\n",
    "    energy = 10\n",
    "    \n",
    "    def __init__(self, name, energy):\n",
    "        self.name = name.lower()\n",
    "        self.energy = int(energy)\n",
    "        \n",
    "    def eat(self, num):\n",
    "        self.energy = self.energy + num\n",
    "        print(f'Your energy has increased to {self.energy} because you ate {num} wildebeasts.')\n",
    "        \n",
    "    def sleep(self, num):\n",
    "        self.energy = self.energy + num\n",
    "        print(f'Your energy has increased to {self.energy} because you slept {num} hours.')\n",
    "    def play(self, num):\n",
    "        self.energy = self.energy - num\n",
    "        print(f'Your energy has decreased to {self.energy} because you played for {num} hours.')\n",
    "\n",
    "Leo = Animal('Leo', 10)"
   ]
  },
  {
   "cell_type": "code",
   "execution_count": 4,
   "id": "16b91f28",
   "metadata": {},
   "outputs": [
    {
     "name": "stdout",
     "output_type": "stream",
     "text": [
      "Your energy has decreased to 4 because you played for 12 hours.\n"
     ]
    }
   ],
   "source": [
    "Leo.play(12)"
   ]
  },
  {
   "cell_type": "markdown",
   "id": "c264af9d",
   "metadata": {},
   "source": [
    "### Exercise 2 - Turn the shopping cart program into an object-oriented program"
   ]
  },
  {
   "cell_type": "code",
   "execution_count": null,
   "id": "e3d65637",
   "metadata": {},
   "outputs": [],
   "source": [
    "# Create a class called cart that retains items and has methods to add, remove, and show\n",
    "\n"
   ]
  },
  {
   "cell_type": "code",
   "execution_count": 58,
   "id": "fa8bd4bb",
   "metadata": {},
   "outputs": [],
   "source": [
    "class Cart():\n",
    "    my_cart = {}\n",
    "    \n",
    "    def __init__(self, item, cost, amount):\n",
    "        self.item = item\n",
    "        self.cost = cost\n",
    "        self.amount = amount\n",
    "        \n",
    "    def add(self, item cost, amount):\n",
    "        \n",
    "\n",
    "\n",
    "#     def quit(self):\n",
    "#         for val in my_cart.values():\n",
    "#             xitem = val.get('item')\n",
    "#             xcost = val.get('cost')\n",
    "#             xamount = val.get('amount')\n",
    "#             subtotal = float(xcost)*float(xamount)\n",
    "#             print(f\"    {xitem.title()} x{int(xamount)}... sub total ${subtotal:.2f}\") \n",
    "#             print('-'*15)\n",
    "#             print('Thank you for shopping today with the Shopping Cart!')\n",
    "#             print('-'*15)\n",
    "            \n",
    "#     def add(self, item, cost, amount):\n",
    "#         self.item = item\n",
    "#         self.cost = cost\n",
    "#         self.amount = amount\n",
    "#         my_cart[item] = {'cost':cost, 'amount':amount}\n",
    "#         user_input = input('What would you like to do today? Add, Remove, Show or Quit?').lower()\n",
    "        \n",
    "    \n",
    "    \n",
    "#     def main(self):\n",
    "#         True = {'add', 'remove', 'show', 'quit'}\n",
    "#         user_input = input('What would you like to do today? Add, Remove, Show or Quit?').lower()\n",
    "#         while True:\n",
    "#             if user_input == 'quit':\n",
    "#                 print('Thank you for shopping with the Shopping Cart today!')\n",
    "#                 print('Here is your receipt!')\n",
    "#                 quit()\n",
    "#                 break\n",
    "#             if user_input == 'add':\n",
    "#                 add()\n",
    "#                 user_input = input('What would you like to do today? Add, Remove, Show or Quit?').lower()\n",
    "#             if user_input == 'remove':\n",
    "#                 remove()\n",
    "#                 user_input = input('What would you like to do today? Add, Remove, Show or Quit?').lower()\n",
    "#             if user_input == 'show':\n",
    "#                 show()\n",
    "#                 user_input = input('What would you like to do today? Add, Remove, Show or Quit?').lower()\n",
    "#             else:\n",
    "#                 print('That is not a valid input. Please try again.')\n",
    "#                 user_input = input('What would you like to do today? Add, Remove, Show or Quit?').lower()\n",
    "\n",
    "        "
   ]
  },
  {
   "cell_type": "code",
   "execution_count": 59,
   "id": "18931c4b",
   "metadata": {},
   "outputs": [
    {
     "ename": "TypeError",
     "evalue": "Cart.__init__() missing 3 required positional arguments: 'item', 'cost', and 'amount'",
     "output_type": "error",
     "traceback": [
      "\u001b[0;31m---------------------------------------------------------------------------\u001b[0m",
      "\u001b[0;31mTypeError\u001b[0m                                 Traceback (most recent call last)",
      "Cell \u001b[0;32mIn[59], line 1\u001b[0m\n\u001b[0;32m----> 1\u001b[0m Cart()\n",
      "\u001b[0;31mTypeError\u001b[0m: Cart.__init__() missing 3 required positional arguments: 'item', 'cost', and 'amount'"
     ]
    }
   ],
   "source": [
    "Cart()"
   ]
  },
  {
   "cell_type": "code",
   "execution_count": null,
   "id": "08910d1f",
   "metadata": {},
   "outputs": [],
   "source": []
  },
  {
   "cell_type": "code",
   "execution_count": null,
   "id": "dcf65381",
   "metadata": {},
   "outputs": [],
   "source": []
  },
  {
   "cell_type": "code",
   "execution_count": 24,
   "id": "d3a05e42",
   "metadata": {},
   "outputs": [],
   "source": [
    "# V2\n",
    "\n",
    "my_cart = {}\n",
    "\n",
    "def open_cart():\n",
    "    print('Hello and Welcome to the Shopping Cart! Thank you for using our program.')\n",
    "    welcome_menu = input('What would you like to do? Add, Remove, Show, Clear or Quit?\\n').lower()\n",
    "    \n",
    "    # MAIN MENU LOOP \n",
    "    while welcome_menu != 'quit':\n",
    "        \n",
    "        # ADD \n",
    "        if welcome_menu == 'add':\n",
    "            item = input('What item are you adding?\\n').lower()\n",
    "            cost = input('What is the cost per item?\\n').lower()\n",
    "            amount = input('What is the quantity you are adding?\\n').lower()\n",
    "            #store details\n",
    "            my_cart[item] = {'item':item, 'cost':cost, 'amount':amount}\n",
    "            welcome_menu = input('What would you like to do? Add, Remove, Show, Clear or Quit?\\n').lower()\n",
    "        \n",
    "        # REMOVE * IS NOT RECOGNIZING INPUT AGAIN\n",
    "        if welcome_menu == 'remove':\n",
    "            rm_item = input('What item would you like to remove?').lower()\n",
    "            for item in my_cart.keys():\n",
    "                if item == rm_item:\n",
    "                    x = False\n",
    "                else:\n",
    "                    x = True\n",
    "            if x == False:\n",
    "                del my_cart[item]\n",
    "                print('Your item has been removed.')\n",
    "            if x == True:\n",
    "                print('That item is not in your cart.\\n')\n",
    "            welcome_menu = input('What would you like to do? Add, Remove, Show, Clear or Quit?\\n').lower()\n",
    "       \n",
    "        # SHOW\n",
    "        if welcome_menu == 'show':\n",
    "            print('Here is your current cart!')\n",
    "            for val in my_cart.values():\n",
    "                print(f\"    {val.get('item').title()} @ ${val.get('cost')}/ea. - Qty:{val.get('amount')}\")\n",
    "            welcome_menu = input('What would you like to do? Add, Remove, Show, Clear or Quit?\\n').lower() #don't touch indent       \n",
    "                \n",
    "            \n",
    "        # CLEAR\n",
    "        if welcome_menu == 'clear':\n",
    "            my_cart.clear()\n",
    "            print('Your cart is cleared.')\n",
    "            welcome_menu = input('What would you like to do? Add, Remove, Show, Clear or Quit?\\n').lower()\n",
    "        \n",
    "        # QUIT \n",
    "        def get_total(*subtotal):\n",
    "                    end_total = end_total + (subtotal + subtotal)\n",
    "                \n",
    "        if welcome_menu == 'quit':\n",
    "            end_total = 0\n",
    "            print('-'*15)\n",
    "            print('Here is your receipt!')\n",
    "            for val in my_cart.values():\n",
    "                xitem = val.get('item')\n",
    "                xcost = val.get('cost')\n",
    "                xamount = val.get('amount')\n",
    "                subtotal = float(xcost)*float(xamount)\n",
    "                print(f\"    {xitem.title()} x{int(xamount)}... sub total ${subtotal:.2f}\") \n",
    "            print('-'*15)\n",
    "            get_total()\n",
    "            print(f'Total: {end_total}') # NEED to figure out how to take in any possible number of totals (def fx?)\n",
    "            print('Thank you for shopping today with the Shopping Cart!')\n",
    "            print('-'*15)\n",
    "    "
   ]
  },
  {
   "cell_type": "code",
   "execution_count": null,
   "id": "081fe7c2",
   "metadata": {},
   "outputs": [],
   "source": [
    "\n"
   ]
  }
 ],
 "metadata": {
  "kernelspec": {
   "display_name": "Python 3 (ipykernel)",
   "language": "python",
   "name": "python3"
  },
  "language_info": {
   "codemirror_mode": {
    "name": "ipython",
    "version": 3
   },
   "file_extension": ".py",
   "mimetype": "text/x-python",
   "name": "python",
   "nbconvert_exporter": "python",
   "pygments_lexer": "ipython3",
   "version": "3.11.5"
  }
 },
 "nbformat": 4,
 "nbformat_minor": 5
}
