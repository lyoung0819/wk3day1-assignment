{
 "cells": [
  {
   "cell_type": "markdown",
   "id": "f5bb7797",
   "metadata": {},
   "source": [
    "# Exercises"
   ]
  },
  {
   "cell_type": "markdown",
   "id": "bc0e15ce",
   "metadata": {},
   "source": [
    "### Exercise 1 - Write a Python class for an Animal that has a name and energy attributes. The animal class should also have methods for eat, sleep, and play that will take in an integer and increase/decrease the energy of the animal with a formatted print statement"
   ]
  },
  {
   "cell_type": "code",
   "execution_count": 4,
   "id": "1ab9c6b2",
   "metadata": {},
   "outputs": [
    {
     "name": "stdout",
     "output_type": "stream",
     "text": [
      "leo has been created with an energy level of 10\n"
     ]
    }
   ],
   "source": [
    "# Example 1\n",
    "# buddy = Animal('Buddy', 10)\n",
    "# buddy.play(5) -> \"Buddy is playing for 5 minutes. His energy is now 5\"\n",
    "# buddy.sleep(10) -> \"Buddy is sleeping for 10 minutes. His energy is now 15\"\n",
    "\n",
    "class Animal:\n",
    "    energy = 10\n",
    "    \n",
    "    def __init__(self, name, energy):\n",
    "        self.name = name.lower()\n",
    "        self.energy = int(energy) # print(f'{self.name} has been created with an energy level of {self.energy}')\n",
    "        print(f'{self.name} has been created with an energy level of {self.energy}')\n",
    "        \n",
    "    def eat(self, num):\n",
    "        self.energy = self.energy + num\n",
    "        print(f'Your energy has increased to {self.energy} because you ate {num} wildebeasts.')\n",
    "        \n",
    "    def sleep(self, num):\n",
    "        self.energy = self.energy + num\n",
    "        print(f'Your energy has increased to {self.energy} because you slept {num} hours.')\n",
    "    def play(self, num):\n",
    "        self.energy = self.energy - num\n",
    "        print(f'Your energy has decreased to {self.energy} because you played for {num} hours.')\n",
    "\n",
    "Leo = Animal('Leo', 10)"
   ]
  },
  {
   "cell_type": "code",
   "execution_count": 6,
   "id": "c13aa574",
   "metadata": {},
   "outputs": [
    {
     "name": "stdout",
     "output_type": "stream",
     "text": [
      "Your energy has increased to 34 because you ate 12 wildebeasts.\n",
      "buddy has been created with an energy level of 12\n",
      "Your energy has increased to 16 because you ate 4 wildebeasts.\n"
     ]
    }
   ],
   "source": [
    "Leo.eat(12)\n",
    "buddy = Animal('Buddy', 12)\n",
    "buddy.eat(4)"
   ]
  },
  {
   "cell_type": "markdown",
   "id": "c9b04a28",
   "metadata": {},
   "source": [
    "### Exercise 2 - Turn the shopping cart program into an object-oriented program"
   ]
  },
  {
   "cell_type": "code",
   "execution_count": 26,
   "id": "9bdb7f31",
   "metadata": {},
   "outputs": [],
   "source": [
    "class Cart():\n",
    "    def __init__(self):\n",
    "        self.cart = []\n",
    "        \n",
    "    #METHODS: \n",
    "    def add(self):\n",
    "        item = input('What item would you like to add to your cart?')\n",
    "        self.cart.append(item)\n",
    "            \n",
    "    def remove(self): \n",
    "        item_name = input('What item would you like to remove from your cart?')\n",
    "        if item_name in self.cart:\n",
    "            self.cart.remove(item_name)\n",
    "            print(f'{item_name.title()} has been removed.')\n",
    "        else:\n",
    "            print(f'{item_name.title()} is not in your cart.')  \n",
    "            \n",
    "    def show(self):\n",
    "        if not self.cart:\n",
    "            print('Your cart is currently empty.')\n",
    "        else: \n",
    "            print(f'Here is your current cart: ')\n",
    "            all_items = set(self.cart)\n",
    "            for item in all_items:\n",
    "                print(f'{self.cart.count(item)} {item.title()}(s)')\n",
    "                \n",
    "    def quit(self):\n",
    "        if not self.cart:\n",
    "            print('Your cart is currently empty.')\n",
    "        else: \n",
    "            print(f'Here is your current cart: ')\n",
    "            all_items = set(self.cart) #use a set to find unique items\n",
    "            for item in all_items:\n",
    "                print(f'{self.cart.count(item)} {item.title()}(s)')\n",
    "        print('Thank you for using the Cart.')\n",
    "    \n",
    "\n"
   ]
  },
  {
   "cell_type": "code",
   "execution_count": 27,
   "id": "fbc2fd42",
   "metadata": {},
   "outputs": [],
   "source": [
    "def cart_program():\n",
    "    my_cart = Cart()\n",
    "    print('Hello! Welcome to the shopping cart! ')\n",
    "    user_input = input('What would you like to do today? Add, Remove, Show or Quit?').lower()\n",
    "    while True:\n",
    "        if user_input == 'quit':\n",
    "            print('Thank you for shopping with the Shopping Cart today!')\n",
    "            print('Here is your receipt!')\n",
    "            my_cart.quit()\n",
    "            break\n",
    "        elif user_input == 'add':\n",
    "            my_cart.add()\n",
    "            user_input = input('Thanks for adding to the cart. What would you like to do next? Add, Remove, Show or Quit?').lower()\n",
    "        elif user_input == 'remove':\n",
    "            my_cart.remove()\n",
    "            user_input = input('You removed your item. What would you like to do next? Add, Remove, Show or Quit?').lower()\n",
    "        elif user_input == 'show':\n",
    "            my_cart.show()\n",
    "            user_input = input('What would you like to do next? Add, Remove, Show or Quit?').lower()\n",
    "        else:\n",
    "            print('That is not a valid input. Please try again.')\n",
    "            user_input = input('What would you like to do today? Add, Remove, Show or Quit?').lower()"
   ]
  },
  {
   "cell_type": "code",
   "execution_count": 29,
   "id": "10df7012",
   "metadata": {},
   "outputs": [
    {
     "name": "stdout",
     "output_type": "stream",
     "text": [
      "Hello! Welcome to the shopping cart! \n",
      "What would you like to do today? Add, Remove, Show or Quit?add\n",
      "What item would you like to add to your cart?apple\n",
      "Thanks for adding to the cart. What would you like to do next? Add, Remove, Show or Quit?add\n",
      "What item would you like to add to your cart?oranges\n",
      "Thanks for adding to the cart. What would you like to do next? Add, Remove, Show or Quit?add\n",
      "What item would you like to add to your cart?bananas\n",
      "Thanks for adding to the cart. What would you like to do next? Add, Remove, Show or Quit?add\n",
      "What item would you like to add to your cart?pears\n",
      "Thanks for adding to the cart. What would you like to do next? Add, Remove, Show or Quit?show\n",
      "Here is your current cart: \n",
      "1 Oranges(s)\n",
      "1 Bananas(s)\n",
      "1 Pears(s)\n",
      "1 Apple(s)\n",
      "What would you like to do next? Add, Remove, Show or Quit?add\n",
      "What item would you like to add to your cart?pears\n",
      "Thanks for adding to the cart. What would you like to do next? Add, Remove, Show or Quit?show\n",
      "Here is your current cart: \n",
      "1 Oranges(s)\n",
      "1 Bananas(s)\n",
      "2 Pears(s)\n",
      "1 Apple(s)\n",
      "What would you like to do next? Add, Remove, Show or Quit?remove\n",
      "What item would you like to remove from your cart?bananas\n",
      "Bananas has been removed.\n",
      "You removed your item. What would you like to do next? Add, Remove, Show or Quit?show\n",
      "Here is your current cart: \n",
      "1 Oranges(s)\n",
      "2 Pears(s)\n",
      "1 Apple(s)\n",
      "What would you like to do next? Add, Remove, Show or Quit?quit\n",
      "Thank you for shopping with the Shopping Cart today!\n",
      "Here is your receipt!\n",
      "Here is your current cart: \n",
      "1 Oranges(s)\n",
      "2 Pears(s)\n",
      "1 Apple(s)\n",
      "Thank you for using the Cart.\n"
     ]
    }
   ],
   "source": [
    "cart_program()"
   ]
  }
 ],
 "metadata": {
  "kernelspec": {
   "display_name": "Python 3 (ipykernel)",
   "language": "python",
   "name": "python3"
  },
  "language_info": {
   "codemirror_mode": {
    "name": "ipython",
    "version": 3
   },
   "file_extension": ".py",
   "mimetype": "text/x-python",
   "name": "python",
   "nbconvert_exporter": "python",
   "pygments_lexer": "ipython3",
   "version": "3.11.5"
  }
 },
 "nbformat": 4,
 "nbformat_minor": 5
}
