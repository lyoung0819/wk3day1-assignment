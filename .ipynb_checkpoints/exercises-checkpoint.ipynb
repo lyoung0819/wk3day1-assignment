{
 "cells": [
  {
   "cell_type": "markdown",
   "id": "17b13c28",
   "metadata": {},
   "source": [
    "# Exercises"
   ]
  },
  {
   "cell_type": "markdown",
   "id": "be2672c1",
   "metadata": {},
   "source": [
    "### Exercise 1 - Write a Python class for an Animal that has a name and energy attributes. The animal class should also have methods for eat, sleep, and play that will take in an integer and increase/decrease the energy of the animal with a formatted print statement"
   ]
  },
  {
   "cell_type": "code",
   "execution_count": 1,
   "id": "f8436c01",
   "metadata": {},
   "outputs": [],
   "source": [
    "# Example 1\n",
    "# buddy = Animal('Buddy', 10)\n",
    "# buddy.play(5) -> \"Buddy is playing for 5 minutes. His energy is now 5\"\n",
    "# buddy.sleep(10) -> \"Buddy is sleeping for 10 minutes. His energy is now 15\"\n",
    "\n",
    "class Animal:\n",
    "    energy = 10\n",
    "    \n",
    "    def __init__(self, name, energy):\n",
    "        self.name = name.lower()\n",
    "        self.energy = int(energy)\n",
    "        \n",
    "    def eat(self, num):\n",
    "        self.energy = self.energy + num\n",
    "        print(f'Your energy has increased to {self.energy} because you ate {num} wildebeasts.')\n",
    "        \n",
    "    def sleep(self, num):\n",
    "        self.energy = self.energy + num\n",
    "        print(f'Your energy has increased to {self.energy} because you slept {num} hours.')\n",
    "    def play(self, num):\n",
    "        self.energy = self.energy - num\n",
    "        print(f'Your energy has decreased to {self.energy} because you played for {num} hours.')\n",
    "\n",
    "Leo = Animal('Leo', 10)"
   ]
  },
  {
   "cell_type": "code",
   "execution_count": 4,
   "id": "cff9b90e",
   "metadata": {},
   "outputs": [
    {
     "name": "stdout",
     "output_type": "stream",
     "text": [
      "Your energy has decreased to 4 because you played for 12 hours.\n"
     ]
    }
   ],
   "source": [
    "Leo.play(12)"
   ]
  },
  {
   "cell_type": "markdown",
   "id": "134036d1",
   "metadata": {},
   "source": [
    "### Exercise 2 - Turn the shopping cart program into an object-oriented program"
   ]
  },
  {
   "cell_type": "code",
   "execution_count": null,
   "id": "113cdf58",
   "metadata": {},
   "outputs": [],
   "source": [
    "# Create a class called cart that retains items and has methods to add, remove, and show\n",
    "\n"
   ]
  },
  {
   "cell_type": "code",
   "execution_count": null,
   "id": "bdc84614",
   "metadata": {},
   "outputs": [],
   "source": []
  },
  {
   "cell_type": "code",
   "execution_count": null,
   "id": "335ec59f",
   "metadata": {},
   "outputs": [],
   "source": []
  },
  {
   "cell_type": "code",
   "execution_count": null,
   "id": "46377254",
   "metadata": {},
   "outputs": [],
   "source": []
  }
 ],
 "metadata": {
  "kernelspec": {
   "display_name": "Python 3 (ipykernel)",
   "language": "python",
   "name": "python3"
  },
  "language_info": {
   "codemirror_mode": {
    "name": "ipython",
    "version": 3
   },
   "file_extension": ".py",
   "mimetype": "text/x-python",
   "name": "python",
   "nbconvert_exporter": "python",
   "pygments_lexer": "ipython3",
   "version": "3.11.5"
  }
 },
 "nbformat": 4,
 "nbformat_minor": 5
}
